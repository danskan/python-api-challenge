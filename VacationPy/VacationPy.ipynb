{
 "cells": [
  {
   "cell_type": "markdown",
   "metadata": {
    "deletable": true,
    "editable": true
   },
   "source": [
    "# VacationPy\n",
    "----\n",
    "\n",
    "#### Note\n",
    "* Keep an eye on your API usage. Use https://developers.google.com/maps/reporting/gmp-reporting as reference for how to monitor your usage and billing.\n",
    "\n",
    "* Instructions have been included for each segment. You do not have to follow them exactly, but they are included to help you think through the steps."
   ]
  },
  {
   "cell_type": "code",
   "execution_count": 101,
   "metadata": {
    "collapsed": true,
    "deletable": true,
    "editable": true
   },
   "outputs": [],
   "source": [
    "# Dependencies and Setup\n",
    "import matplotlib.pyplot as plt\n",
    "import pandas as pd\n",
    "import numpy as np\n",
    "import requests\n",
    "import gmaps\n",
    "import os\n",
    "\n",
    "# Import API key\n",
    "from api_keys import g_key"
   ]
  },
  {
   "cell_type": "markdown",
   "metadata": {},
   "source": [
    "<b>Store Part I Results into a DataFrame</b>\n",
    "<ul><li>Load csv exported in Part I to a Dataframe</li></ul>\n"
   ]
  },
  {
   "cell_type": "code",
   "execution_count": 102,
   "metadata": {
    "collapsed": false,
    "deletable": true,
    "editable": true
   },
   "outputs": [
    {
     "data": {
      "text/html": [
       "<div>\n",
       "<style scoped>\n",
       "    .dataframe tbody tr th:only-of-type {\n",
       "        vertical-align: middle;\n",
       "    }\n",
       "\n",
       "    .dataframe tbody tr th {\n",
       "        vertical-align: top;\n",
       "    }\n",
       "\n",
       "    .dataframe thead th {\n",
       "        text-align: right;\n",
       "    }\n",
       "</style>\n",
       "<table border=\"1\" class=\"dataframe\">\n",
       "  <thead>\n",
       "    <tr style=\"text-align: right;\">\n",
       "      <th></th>\n",
       "      <th>city</th>\n",
       "      <th>country</th>\n",
       "      <th>city_id</th>\n",
       "      <th>date</th>\n",
       "      <th>latitude</th>\n",
       "      <th>longitude</th>\n",
       "      <th>cloudiness</th>\n",
       "      <th>description</th>\n",
       "      <th>temperature</th>\n",
       "      <th>feels_like</th>\n",
       "      <th>temp_min</th>\n",
       "      <th>temp_max</th>\n",
       "      <th>humidity</th>\n",
       "      <th>visbility</th>\n",
       "      <th>windspeed</th>\n",
       "    </tr>\n",
       "  </thead>\n",
       "  <tbody>\n",
       "    <tr>\n",
       "      <th>0</th>\n",
       "      <td>Nemuro</td>\n",
       "      <td>JP</td>\n",
       "      <td>2128975</td>\n",
       "      <td>1648789984</td>\n",
       "      <td>43.3236</td>\n",
       "      <td>145.5750</td>\n",
       "      <td>100</td>\n",
       "      <td>overcast clouds</td>\n",
       "      <td>29.59</td>\n",
       "      <td>20.52</td>\n",
       "      <td>29.59</td>\n",
       "      <td>29.59</td>\n",
       "      <td>77</td>\n",
       "      <td>10000</td>\n",
       "      <td>10.42</td>\n",
       "    </tr>\n",
       "    <tr>\n",
       "      <th>1</th>\n",
       "      <td>Luganville</td>\n",
       "      <td>VU</td>\n",
       "      <td>2136150</td>\n",
       "      <td>1648789984</td>\n",
       "      <td>-15.5333</td>\n",
       "      <td>167.1667</td>\n",
       "      <td>100</td>\n",
       "      <td>heavy intensity rain</td>\n",
       "      <td>83.08</td>\n",
       "      <td>92.17</td>\n",
       "      <td>83.08</td>\n",
       "      <td>83.08</td>\n",
       "      <td>82</td>\n",
       "      <td>10000</td>\n",
       "      <td>2.89</td>\n",
       "    </tr>\n",
       "    <tr>\n",
       "      <th>2</th>\n",
       "      <td>Balkanabat</td>\n",
       "      <td>TM</td>\n",
       "      <td>161616</td>\n",
       "      <td>1648789984</td>\n",
       "      <td>39.5108</td>\n",
       "      <td>54.3671</td>\n",
       "      <td>0</td>\n",
       "      <td>clear sky</td>\n",
       "      <td>60.35</td>\n",
       "      <td>57.69</td>\n",
       "      <td>60.35</td>\n",
       "      <td>60.35</td>\n",
       "      <td>34</td>\n",
       "      <td>10000</td>\n",
       "      <td>2.68</td>\n",
       "    </tr>\n",
       "    <tr>\n",
       "      <th>3</th>\n",
       "      <td>Chokurdakh</td>\n",
       "      <td>RU</td>\n",
       "      <td>2126123</td>\n",
       "      <td>1648789763</td>\n",
       "      <td>70.6333</td>\n",
       "      <td>147.9167</td>\n",
       "      <td>17</td>\n",
       "      <td>few clouds</td>\n",
       "      <td>-7.08</td>\n",
       "      <td>-15.47</td>\n",
       "      <td>-7.08</td>\n",
       "      <td>-7.08</td>\n",
       "      <td>94</td>\n",
       "      <td>10000</td>\n",
       "      <td>3.24</td>\n",
       "    </tr>\n",
       "    <tr>\n",
       "      <th>4</th>\n",
       "      <td>Vaini</td>\n",
       "      <td>TO</td>\n",
       "      <td>4032243</td>\n",
       "      <td>1648789749</td>\n",
       "      <td>-21.2000</td>\n",
       "      <td>-175.2000</td>\n",
       "      <td>75</td>\n",
       "      <td>broken clouds</td>\n",
       "      <td>80.76</td>\n",
       "      <td>88.61</td>\n",
       "      <td>80.76</td>\n",
       "      <td>80.76</td>\n",
       "      <td>94</td>\n",
       "      <td>10000</td>\n",
       "      <td>4.61</td>\n",
       "    </tr>\n",
       "  </tbody>\n",
       "</table>\n",
       "</div>"
      ],
      "text/plain": [
       "         city country  city_id        date  latitude  longitude  cloudiness  \\\n",
       "0      Nemuro      JP  2128975  1648789984   43.3236   145.5750         100   \n",
       "1  Luganville      VU  2136150  1648789984  -15.5333   167.1667         100   \n",
       "2  Balkanabat      TM   161616  1648789984   39.5108    54.3671           0   \n",
       "3  Chokurdakh      RU  2126123  1648789763   70.6333   147.9167          17   \n",
       "4       Vaini      TO  4032243  1648789749  -21.2000  -175.2000          75   \n",
       "\n",
       "            description  temperature  feels_like  temp_min  temp_max  \\\n",
       "0       overcast clouds        29.59       20.52     29.59     29.59   \n",
       "1  heavy intensity rain        83.08       92.17     83.08     83.08   \n",
       "2             clear sky        60.35       57.69     60.35     60.35   \n",
       "3            few clouds        -7.08      -15.47     -7.08     -7.08   \n",
       "4         broken clouds        80.76       88.61     80.76     80.76   \n",
       "\n",
       "   humidity  visbility  windspeed  \n",
       "0        77      10000      10.42  \n",
       "1        82      10000       2.89  \n",
       "2        34      10000       2.68  \n",
       "3        94      10000       3.24  \n",
       "4        94      10000       4.61  "
      ]
     },
     "execution_count": 102,
     "metadata": {},
     "output_type": "execute_result"
    }
   ],
   "source": [
    "# Load and Store the Data from weatherpy into a dataframe\n",
    "\n",
    "cities_path = \"../Weatherpy/output_data/cities_output.csv\"\n",
    "cities_df = pd.read_csv(cities_path)\n",
    "cities_df.head()"
   ]
  },
  {
   "cell_type": "markdown",
   "metadata": {},
   "source": [
    "<b>Humidity Heatmap</b>\n",
    "<ul>\n",
    "    <li> Configure GMAP </li>\n",
    "    <li> Use the Lat and Lng as Locations and Humidity as the Weight </li>\n",
    "    <li> Add Heatmap layer to map </li>\n",
    "</ul>"
   ]
  },
  {
   "cell_type": "code",
   "execution_count": 122,
   "metadata": {
    "collapsed": false,
    "deletable": true,
    "editable": true,
    "scrolled": true
   },
   "outputs": [
    {
     "data": {
      "application/vnd.jupyter.widget-view+json": {
       "model_id": "d328c8a935994f81908d2924d54a191f",
       "version_major": 2,
       "version_minor": 0
      },
      "text/plain": [
       "Figure(layout=FigureLayout(border='1px solid black', height='800px', padding='1px', width='1000px'))"
      ]
     },
     "metadata": {},
     "output_type": "display_data"
    }
   ],
   "source": [
    "gmaps.configure(api_key = g_key)\n",
    "\n",
    "city_coord = cities_df[['latitude', 'longitude']].astype(float)\n",
    "humidity = cities_df['humidity'].astype(float)\n",
    "\n",
    "layout = {\n",
    "    'width': '1000px',\n",
    "    'height': '800px',\n",
    "    'border': '1px solid black',\n",
    "    'padding': '1px'}\n",
    "\n",
    "fig = gmaps.figure(map_type = 'HYBRID', layout = layout)\n",
    "heat = gmaps.heatmap_layer(city_coord, weights = humidity, dissipating = False, max_intensity = 300, point_radius = 5)\n",
    "\n",
    "\n",
    "fig.add_layer(heat)\n",
    "fig\n"
   ]
  },
  {
   "cell_type": "markdown",
   "metadata": {},
   "source": [
    "<b> Create new DataFrame fitting weather criteria </b>\n",
    "<ul>\n",
    "    <li> Narrow down the cities to fit weather conditions </li>\n",
    "    <li> Drop any rows with null values </li>\n",
    "</ul>"
   ]
  },
  {
   "cell_type": "code",
   "execution_count": 112,
   "metadata": {
    "collapsed": false
   },
   "outputs": [
    {
     "name": "stdout",
     "output_type": "stream",
     "text": [
      "9\n"
     ]
    }
   ],
   "source": [
    "# create copy of city data to manipulate in pandas\n",
    "copy_city_data = cities_df.copy()\n",
    "\n",
    "# select the data that has a Max Temperature of 80 degrees but higher than 70\n",
    "temp_optimized_df = copy_city_data[(copy_city_data['temp_max'] > 70) & (copy_city_data['temp_max'] < 80)]\n",
    "\n",
    "# select data with wind speed less than 10 mph\n",
    "wind_optimized_df =temp_optimized_df[(temp_optimized_df['windspeed'] < 10)]\n",
    "\n",
    "\n",
    "# select data with zero cloudiness\n",
    "cloud_optimized_df = wind_optimized_df[(wind_optimized_df['cloudiness'] ==0)]\n",
    "\n",
    "# drop any data data that doesn't satisfy all three conditions\n",
    "weather_optimized_df = cloud_optimized_df.dropna(how='any')\n",
    "print(len(weather_optimized_df))"
   ]
  },
  {
   "cell_type": "markdown",
   "metadata": {},
   "source": [
    "<b> Hotel Map </b>\n",
    "<ul>\n",
    "    <li>Store into variable named hotel_df</li>\n",
    "    <li>Add a \"Hotel Name\" column to the DataFrame</li>\n",
    "    <li>Set parameters to search for hotels w/ 5000 meters</li>\n",
    "    <li>Hit the Google Places API for each city's coodinates</li>\n",
    "    <li>Store the first Hotel result into the DataFrame</li>\n",
    "    <li>Plot markers on top of the heatmap</li>\n",
    "</ul>"
   ]
  },
  {
   "cell_type": "code",
   "execution_count": 113,
   "metadata": {
    "collapsed": false,
    "scrolled": false
   },
   "outputs": [],
   "source": [
    "# use Google Places API to find first hotel within 5000 meters of coords\n",
    "hotel_df = cloud_optimized_df[['city', 'country', 'latitude', 'longitude']]\n",
    "\n"
   ]
  },
  {
   "cell_type": "code",
   "execution_count": 114,
   "metadata": {
    "collapsed": false
   },
   "outputs": [
    {
     "name": "stdout",
     "output_type": "stream",
     "text": [
      "Missing field/result... skipping.\n",
      "Missing field/result... skipping.\n",
      "Missing field/result... skipping.\n",
      "Missing field/result... skipping.\n",
      "Missing field/result... skipping.\n"
     ]
    }
   ],
   "source": [
    "# params dictionary to update each iteration\n",
    "params = {\n",
    "    'radius': 5000,\n",
    "    'types': 'hotel',\n",
    "    'keyword': 'hotel',\n",
    "    'key': g_key\n",
    "}\n",
    "\n",
    "# use the lat/long we recovered to get the hotels\n",
    "for index, row in hotel_df.iterrows():\n",
    "    lat = row['latitude']\n",
    "    lng = row['longitude']\n",
    "    params['location'] = f\"{lat}, {lng}\"\n",
    "    base_url = \"https://maps.googleapis.com/maps/api/place/nearbysearch/json\"\n",
    "    name_address = requests.get(base_url, params=params)\n",
    "    name_address = name_address.json()\n",
    "    try:\n",
    "        hotel_df.loc[index, \"Hotel Name\"] = name_address[\"results\"][0][\"name\"]\n",
    "    except (KeyError, IndexError):\n",
    "        print(\"Missing field/result... skipping.\")\n",
    "\n",
    "\n"
   ]
  },
  {
   "cell_type": "code",
   "execution_count": 115,
   "metadata": {
    "collapsed": false
   },
   "outputs": [],
   "source": [
    "info_box_template = \"\"\"\n",
    "    <dl>\n",
    "    <dt>Name</dt><dd>{Hotel Name}</dd>\n",
    "    <dt>City</dt><dd>{city}</dd>\n",
    "    <dt>Country</dt><dd>{country}</dd>\n",
    "    </dl>\"\"\"\n",
    "\n",
    "\n",
    "hotel_info = [info_box_template.format(**row) for index, row in hotel_df.iterrows()]\n",
    "locations = ten_hotel_df[['latitude', 'longitude']]\n"
   ]
  },
  {
   "cell_type": "code",
   "execution_count": 123,
   "metadata": {
    "collapsed": false,
    "scrolled": false
   },
   "outputs": [
    {
     "data": {
      "application/vnd.jupyter.widget-view+json": {
       "model_id": "d328c8a935994f81908d2924d54a191f",
       "version_major": 2,
       "version_minor": 0
      },
      "text/plain": [
       "Figure(layout=FigureLayout(border='1px solid black', height='800px', padding='1px', width='1000px'))"
      ]
     },
     "metadata": {},
     "output_type": "display_data"
    }
   ],
   "source": [
    "markers = gmaps.marker_layer(locations, info_box_content= hotel_info)\n",
    "fig.add_layer(markers)\n",
    "fig"
   ]
  }
 ],
 "metadata": {
  "kernelspec": {
   "display_name": "PythonData",
   "language": "python",
   "name": "pythondata"
  },
  "language_info": {
   "codemirror_mode": {
    "name": "ipython",
    "version": 3
   },
   "file_extension": ".py",
   "mimetype": "text/x-python",
   "name": "python",
   "nbconvert_exporter": "python",
   "pygments_lexer": "ipython3",
   "version": "3.6.10"
  },
  "latex_envs": {
   "LaTeX_envs_menu_present": true,
   "autoclose": false,
   "autocomplete": true,
   "bibliofile": "biblio.bib",
   "cite_by": "apalike",
   "current_citInitial": 1,
   "eqLabelWithNumbers": true,
   "eqNumInitial": 1,
   "hotkeys": {
    "equation": "Ctrl-E",
    "itemize": "Ctrl-I"
   },
   "labels_anchors": false,
   "latex_user_defs": false,
   "report_style_numbering": false,
   "user_envs_cfg": false
  }
 },
 "nbformat": 4,
 "nbformat_minor": 2
}
